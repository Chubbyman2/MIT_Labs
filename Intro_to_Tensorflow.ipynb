{
  "nbformat": 4,
  "nbformat_minor": 0,
  "metadata": {
    "colab": {
      "name": "MIT Lab 1 - Intro to Tensorflow.ipynb",
      "provenance": [],
      "collapsed_sections": [],
      "machine_shape": "hm",
      "include_colab_link": true
    },
    "kernelspec": {
      "name": "python3",
      "display_name": "Python 3"
    },
    "accelerator": "GPU"
  },
  "cells": [
    {
      "cell_type": "markdown",
      "metadata": {
        "id": "view-in-github",
        "colab_type": "text"
      },
      "source": [
        "<a href=\"https://colab.research.google.com/github/Chubbyman2/MIT_Labs/blob/master/Intro_to_Tensorflow.ipynb\" target=\"_parent\"><img src=\"https://colab.research.google.com/assets/colab-badge.svg\" alt=\"Open In Colab\"/></a>"
      ]
    },
    {
      "cell_type": "code",
      "metadata": {
        "id": "HXebNNtQJbwM",
        "colab_type": "code",
        "colab": {
          "base_uri": "https://localhost:8080/",
          "height": 343
        },
        "outputId": "b2e86289-8554-4a80-e856-84cc354abfa1"
      },
      "source": [
        "import tensorflow as tf\n",
        "\n",
        "!pip install mitdeeplearning\n",
        "import mitdeeplearning as mdl\n",
        "\n",
        "import numpy as np\n",
        "import matplotlib.pyplot as plt"
      ],
      "execution_count": null,
      "outputs": [
        {
          "output_type": "stream",
          "text": [
            "Collecting mitdeeplearning\n",
            "\u001b[?25l  Downloading https://files.pythonhosted.org/packages/8b/3b/b9174b68dc10832356d02a2d83a64b43a24f1762c172754407d22fc8f960/mitdeeplearning-0.1.2.tar.gz (2.1MB)\n",
            "\r\u001b[K     |▏                               | 10kB 22.3MB/s eta 0:00:01\r\u001b[K     |▎                               | 20kB 4.2MB/s eta 0:00:01\r\u001b[K     |▌                               | 30kB 5.4MB/s eta 0:00:01\r\u001b[K     |▋                               | 40kB 5.7MB/s eta 0:00:01\r\u001b[K     |▉                               | 51kB 4.8MB/s eta 0:00:01\r\u001b[K     |█                               | 61kB 5.2MB/s eta 0:00:01\r\u001b[K     |█                               | 71kB 5.7MB/s eta 0:00:01\r\u001b[K     |█▎                              | 81kB 6.1MB/s eta 0:00:01\r\u001b[K     |█▍                              | 92kB 6.2MB/s eta 0:00:01\r\u001b[K     |█▋                              | 102kB 6.0MB/s eta 0:00:01\r\u001b[K     |█▊                              | 112kB 6.0MB/s eta 0:00:01\r\u001b[K     |█▉                              | 122kB 6.0MB/s eta 0:00:01\r\u001b[K     |██                              | 133kB 6.0MB/s eta 0:00:01\r\u001b[K     |██▏                             | 143kB 6.0MB/s eta 0:00:01\r\u001b[K     |██▍                             | 153kB 6.0MB/s eta 0:00:01\r\u001b[K     |██▌                             | 163kB 6.0MB/s eta 0:00:01\r\u001b[K     |██▊                             | 174kB 6.0MB/s eta 0:00:01\r\u001b[K     |██▉                             | 184kB 6.0MB/s eta 0:00:01\r\u001b[K     |███                             | 194kB 6.0MB/s eta 0:00:01\r\u001b[K     |███▏                            | 204kB 6.0MB/s eta 0:00:01\r\u001b[K     |███▎                            | 215kB 6.0MB/s eta 0:00:01\r\u001b[K     |███▌                            | 225kB 6.0MB/s eta 0:00:01\r\u001b[K     |███▋                            | 235kB 6.0MB/s eta 0:00:01\r\u001b[K     |███▊                            | 245kB 6.0MB/s eta 0:00:01\r\u001b[K     |████                            | 256kB 6.0MB/s eta 0:00:01\r\u001b[K     |████                            | 266kB 6.0MB/s eta 0:00:01\r\u001b[K     |████▎                           | 276kB 6.0MB/s eta 0:00:01\r\u001b[K     |████▍                           | 286kB 6.0MB/s eta 0:00:01\r\u001b[K     |████▋                           | 296kB 6.0MB/s eta 0:00:01\r\u001b[K     |████▊                           | 307kB 6.0MB/s eta 0:00:01\r\u001b[K     |████▉                           | 317kB 6.0MB/s eta 0:00:01\r\u001b[K     |█████                           | 327kB 6.0MB/s eta 0:00:01\r\u001b[K     |█████▏                          | 337kB 6.0MB/s eta 0:00:01\r\u001b[K     |█████▍                          | 348kB 6.0MB/s eta 0:00:01\r\u001b[K     |█████▌                          | 358kB 6.0MB/s eta 0:00:01\r\u001b[K     |█████▋                          | 368kB 6.0MB/s eta 0:00:01\r\u001b[K     |█████▉                          | 378kB 6.0MB/s eta 0:00:01\r\u001b[K     |██████                          | 389kB 6.0MB/s eta 0:00:01\r\u001b[K     |██████▏                         | 399kB 6.0MB/s eta 0:00:01\r\u001b[K     |██████▎                         | 409kB 6.0MB/s eta 0:00:01\r\u001b[K     |██████▌                         | 419kB 6.0MB/s eta 0:00:01\r\u001b[K     |██████▋                         | 430kB 6.0MB/s eta 0:00:01\r\u001b[K     |██████▊                         | 440kB 6.0MB/s eta 0:00:01\r\u001b[K     |███████                         | 450kB 6.0MB/s eta 0:00:01\r\u001b[K     |███████                         | 460kB 6.0MB/s eta 0:00:01\r\u001b[K     |███████▎                        | 471kB 6.0MB/s eta 0:00:01\r\u001b[K     |███████▍                        | 481kB 6.0MB/s eta 0:00:01\r\u001b[K     |███████▌                        | 491kB 6.0MB/s eta 0:00:01\r\u001b[K     |███████▊                        | 501kB 6.0MB/s eta 0:00:01\r\u001b[K     |███████▉                        | 512kB 6.0MB/s eta 0:00:01\r\u001b[K     |████████                        | 522kB 6.0MB/s eta 0:00:01\r\u001b[K     |████████▏                       | 532kB 6.0MB/s eta 0:00:01\r\u001b[K     |████████▍                       | 542kB 6.0MB/s eta 0:00:01\r\u001b[K     |████████▌                       | 552kB 6.0MB/s eta 0:00:01\r\u001b[K     |████████▋                       | 563kB 6.0MB/s eta 0:00:01\r\u001b[K     |████████▉                       | 573kB 6.0MB/s eta 0:00:01\r\u001b[K     |█████████                       | 583kB 6.0MB/s eta 0:00:01\r\u001b[K     |█████████▏                      | 593kB 6.0MB/s eta 0:00:01\r\u001b[K     |█████████▎                      | 604kB 6.0MB/s eta 0:00:01\r\u001b[K     |█████████▍                      | 614kB 6.0MB/s eta 0:00:01\r\u001b[K     |█████████▋                      | 624kB 6.0MB/s eta 0:00:01\r\u001b[K     |█████████▊                      | 634kB 6.0MB/s eta 0:00:01\r\u001b[K     |██████████                      | 645kB 6.0MB/s eta 0:00:01\r\u001b[K     |██████████                      | 655kB 6.0MB/s eta 0:00:01\r\u001b[K     |██████████▎                     | 665kB 6.0MB/s eta 0:00:01\r\u001b[K     |██████████▍                     | 675kB 6.0MB/s eta 0:00:01\r\u001b[K     |██████████▌                     | 686kB 6.0MB/s eta 0:00:01\r\u001b[K     |██████████▊                     | 696kB 6.0MB/s eta 0:00:01\r\u001b[K     |██████████▉                     | 706kB 6.0MB/s eta 0:00:01\r\u001b[K     |███████████                     | 716kB 6.0MB/s eta 0:00:01\r\u001b[K     |███████████▏                    | 727kB 6.0MB/s eta 0:00:01\r\u001b[K     |███████████▎                    | 737kB 6.0MB/s eta 0:00:01\r\u001b[K     |███████████▌                    | 747kB 6.0MB/s eta 0:00:01\r\u001b[K     |███████████▋                    | 757kB 6.0MB/s eta 0:00:01\r\u001b[K     |███████████▉                    | 768kB 6.0MB/s eta 0:00:01\r\u001b[K     |████████████                    | 778kB 6.0MB/s eta 0:00:01\r\u001b[K     |████████████                    | 788kB 6.0MB/s eta 0:00:01\r\u001b[K     |████████████▎                   | 798kB 6.0MB/s eta 0:00:01\r\u001b[K     |████████████▍                   | 808kB 6.0MB/s eta 0:00:01\r\u001b[K     |████████████▋                   | 819kB 6.0MB/s eta 0:00:01\r\u001b[K     |████████████▊                   | 829kB 6.0MB/s eta 0:00:01\r\u001b[K     |█████████████                   | 839kB 6.0MB/s eta 0:00:01\r\u001b[K     |█████████████                   | 849kB 6.0MB/s eta 0:00:01\r\u001b[K     |█████████████▏                  | 860kB 6.0MB/s eta 0:00:01\r\u001b[K     |█████████████▍                  | 870kB 6.0MB/s eta 0:00:01\r\u001b[K     |█████████████▌                  | 880kB 6.0MB/s eta 0:00:01\r\u001b[K     |█████████████▊                  | 890kB 6.0MB/s eta 0:00:01\r\u001b[K     |█████████████▉                  | 901kB 6.0MB/s eta 0:00:01\r\u001b[K     |██████████████                  | 911kB 6.0MB/s eta 0:00:01\r\u001b[K     |██████████████▏                 | 921kB 6.0MB/s eta 0:00:01\r\u001b[K     |██████████████▎                 | 931kB 6.0MB/s eta 0:00:01\r\u001b[K     |██████████████▌                 | 942kB 6.0MB/s eta 0:00:01\r\u001b[K     |██████████████▋                 | 952kB 6.0MB/s eta 0:00:01\r\u001b[K     |██████████████▉                 | 962kB 6.0MB/s eta 0:00:01\r\u001b[K     |███████████████                 | 972kB 6.0MB/s eta 0:00:01\r\u001b[K     |███████████████                 | 983kB 6.0MB/s eta 0:00:01\r\u001b[K     |███████████████▎                | 993kB 6.0MB/s eta 0:00:01\r\u001b[K     |███████████████▍                | 1.0MB 6.0MB/s eta 0:00:01\r\u001b[K     |███████████████▋                | 1.0MB 6.0MB/s eta 0:00:01\r\u001b[K     |███████████████▊                | 1.0MB 6.0MB/s eta 0:00:01\r\u001b[K     |███████████████▉                | 1.0MB 6.0MB/s eta 0:00:01\r\u001b[K     |████████████████                | 1.0MB 6.0MB/s eta 0:00:01\r\u001b[K     |████████████████▏               | 1.1MB 6.0MB/s eta 0:00:01\r\u001b[K     |████████████████▍               | 1.1MB 6.0MB/s eta 0:00:01\r\u001b[K     |████████████████▌               | 1.1MB 6.0MB/s eta 0:00:01\r\u001b[K     |████████████████▊               | 1.1MB 6.0MB/s eta 0:00:01\r\u001b[K     |████████████████▉               | 1.1MB 6.0MB/s eta 0:00:01\r\u001b[K     |█████████████████               | 1.1MB 6.0MB/s eta 0:00:01\r\u001b[K     |█████████████████▏              | 1.1MB 6.0MB/s eta 0:00:01\r\u001b[K     |█████████████████▎              | 1.1MB 6.0MB/s eta 0:00:01\r\u001b[K     |█████████████████▌              | 1.1MB 6.0MB/s eta 0:00:01\r\u001b[K     |█████████████████▋              | 1.1MB 6.0MB/s eta 0:00:01\r\u001b[K     |█████████████████▊              | 1.2MB 6.0MB/s eta 0:00:01\r\u001b[K     |██████████████████              | 1.2MB 6.0MB/s eta 0:00:01\r\u001b[K     |██████████████████              | 1.2MB 6.0MB/s eta 0:00:01\r\u001b[K     |██████████████████▎             | 1.2MB 6.0MB/s eta 0:00:01\r\u001b[K     |██████████████████▍             | 1.2MB 6.0MB/s eta 0:00:01\r\u001b[K     |██████████████████▋             | 1.2MB 6.0MB/s eta 0:00:01\r\u001b[K     |██████████████████▊             | 1.2MB 6.0MB/s eta 0:00:01\r\u001b[K     |██████████████████▉             | 1.2MB 6.0MB/s eta 0:00:01\r\u001b[K     |███████████████████             | 1.2MB 6.0MB/s eta 0:00:01\r\u001b[K     |███████████████████▏            | 1.2MB 6.0MB/s eta 0:00:01\r\u001b[K     |███████████████████▍            | 1.3MB 6.0MB/s eta 0:00:01\r\u001b[K     |███████████████████▌            | 1.3MB 6.0MB/s eta 0:00:01\r\u001b[K     |███████████████████▋            | 1.3MB 6.0MB/s eta 0:00:01\r\u001b[K     |███████████████████▉            | 1.3MB 6.0MB/s eta 0:00:01\r\u001b[K     |████████████████████            | 1.3MB 6.0MB/s eta 0:00:01\r\u001b[K     |████████████████████▏           | 1.3MB 6.0MB/s eta 0:00:01\r\u001b[K     |████████████████████▎           | 1.3MB 6.0MB/s eta 0:00:01\r\u001b[K     |████████████████████▌           | 1.3MB 6.0MB/s eta 0:00:01\r\u001b[K     |████████████████████▋           | 1.3MB 6.0MB/s eta 0:00:01\r\u001b[K     |████████████████████▊           | 1.4MB 6.0MB/s eta 0:00:01\r\u001b[K     |█████████████████████           | 1.4MB 6.0MB/s eta 0:00:01\r\u001b[K     |█████████████████████           | 1.4MB 6.0MB/s eta 0:00:01\r\u001b[K     |█████████████████████▎          | 1.4MB 6.0MB/s eta 0:00:01\r\u001b[K     |█████████████████████▍          | 1.4MB 6.0MB/s eta 0:00:01\r\u001b[K     |█████████████████████▌          | 1.4MB 6.0MB/s eta 0:00:01\r\u001b[K     |█████████████████████▊          | 1.4MB 6.0MB/s eta 0:00:01\r\u001b[K     |█████████████████████▉          | 1.4MB 6.0MB/s eta 0:00:01\r\u001b[K     |██████████████████████          | 1.4MB 6.0MB/s eta 0:00:01\r\u001b[K     |██████████████████████▏         | 1.4MB 6.0MB/s eta 0:00:01\r\u001b[K     |██████████████████████▍         | 1.5MB 6.0MB/s eta 0:00:01\r\u001b[K     |██████████████████████▌         | 1.5MB 6.0MB/s eta 0:00:01\r\u001b[K     |██████████████████████▋         | 1.5MB 6.0MB/s eta 0:00:01\r\u001b[K     |██████████████████████▉         | 1.5MB 6.0MB/s eta 0:00:01\r\u001b[K     |███████████████████████         | 1.5MB 6.0MB/s eta 0:00:01\r\u001b[K     |███████████████████████▏        | 1.5MB 6.0MB/s eta 0:00:01\r\u001b[K     |███████████████████████▎        | 1.5MB 6.0MB/s eta 0:00:01\r\u001b[K     |███████████████████████▍        | 1.5MB 6.0MB/s eta 0:00:01\r\u001b[K     |███████████████████████▋        | 1.5MB 6.0MB/s eta 0:00:01\r\u001b[K     |███████████████████████▊        | 1.5MB 6.0MB/s eta 0:00:01\r\u001b[K     |████████████████████████        | 1.6MB 6.0MB/s eta 0:00:01\r\u001b[K     |████████████████████████        | 1.6MB 6.0MB/s eta 0:00:01\r\u001b[K     |████████████████████████▏       | 1.6MB 6.0MB/s eta 0:00:01\r\u001b[K     |████████████████████████▍       | 1.6MB 6.0MB/s eta 0:00:01\r\u001b[K     |████████████████████████▌       | 1.6MB 6.0MB/s eta 0:00:01\r\u001b[K     |████████████████████████▊       | 1.6MB 6.0MB/s eta 0:00:01\r\u001b[K     |████████████████████████▉       | 1.6MB 6.0MB/s eta 0:00:01\r\u001b[K     |█████████████████████████       | 1.6MB 6.0MB/s eta 0:00:01\r\u001b[K     |█████████████████████████▏      | 1.6MB 6.0MB/s eta 0:00:01\r\u001b[K     |█████████████████████████▎      | 1.6MB 6.0MB/s eta 0:00:01\r\u001b[K     |█████████████████████████▌      | 1.7MB 6.0MB/s eta 0:00:01\r\u001b[K     |█████████████████████████▋      | 1.7MB 6.0MB/s eta 0:00:01\r\u001b[K     |█████████████████████████▉      | 1.7MB 6.0MB/s eta 0:00:01\r\u001b[K     |██████████████████████████      | 1.7MB 6.0MB/s eta 0:00:01\r\u001b[K     |██████████████████████████      | 1.7MB 6.0MB/s eta 0:00:01\r\u001b[K     |██████████████████████████▎     | 1.7MB 6.0MB/s eta 0:00:01\r\u001b[K     |██████████████████████████▍     | 1.7MB 6.0MB/s eta 0:00:01\r\u001b[K     |██████████████████████████▋     | 1.7MB 6.0MB/s eta 0:00:01\r\u001b[K     |██████████████████████████▊     | 1.7MB 6.0MB/s eta 0:00:01\r\u001b[K     |███████████████████████████     | 1.8MB 6.0MB/s eta 0:00:01\r\u001b[K     |███████████████████████████     | 1.8MB 6.0MB/s eta 0:00:01\r\u001b[K     |███████████████████████████▏    | 1.8MB 6.0MB/s eta 0:00:01\r\u001b[K     |███████████████████████████▍    | 1.8MB 6.0MB/s eta 0:00:01\r\u001b[K     |███████████████████████████▌    | 1.8MB 6.0MB/s eta 0:00:01\r\u001b[K     |███████████████████████████▊    | 1.8MB 6.0MB/s eta 0:00:01\r\u001b[K     |███████████████████████████▉    | 1.8MB 6.0MB/s eta 0:00:01\r\u001b[K     |████████████████████████████    | 1.8MB 6.0MB/s eta 0:00:01\r\u001b[K     |████████████████████████████▏   | 1.8MB 6.0MB/s eta 0:00:01\r\u001b[K     |████████████████████████████▎   | 1.8MB 6.0MB/s eta 0:00:01\r\u001b[K     |████████████████████████████▌   | 1.9MB 6.0MB/s eta 0:00:01\r\u001b[K     |████████████████████████████▋   | 1.9MB 6.0MB/s eta 0:00:01\r\u001b[K     |████████████████████████████▉   | 1.9MB 6.0MB/s eta 0:00:01\r\u001b[K     |█████████████████████████████   | 1.9MB 6.0MB/s eta 0:00:01\r\u001b[K     |█████████████████████████████   | 1.9MB 6.0MB/s eta 0:00:01\r\u001b[K     |█████████████████████████████▎  | 1.9MB 6.0MB/s eta 0:00:01\r\u001b[K     |█████████████████████████████▍  | 1.9MB 25kB/s eta 0:00:07\r\u001b[K     |█████████████████████████████▋  | 1.9MB 25kB/s eta 0:00:07\r\u001b[K     |█████████████████████████████▊  | 1.9MB 25kB/s eta 0:00:06\r\u001b[K     |█████████████████████████████▉  | 1.9MB 25kB/s eta 0:00:06\r\u001b[K     |██████████████████████████████  | 2.0MB 25kB/s eta 0:00:06\r\u001b[K     |██████████████████████████████▏ | 2.0MB 25kB/s eta 0:00:05\r\u001b[K     |██████████████████████████████▍ | 2.0MB 25kB/s eta 0:00:05\r\u001b[K     |██████████████████████████████▌ | 2.0MB 25kB/s eta 0:00:04\r\u001b[K     |██████████████████████████████▊ | 2.0MB 25kB/s eta 0:00:04\r\u001b[K     |██████████████████████████████▉ | 2.0MB 25kB/s eta 0:00:04\r\u001b[K     |███████████████████████████████ | 2.0MB 25kB/s eta 0:00:03\r\u001b[K     |███████████████████████████████▏| 2.0MB 25kB/s eta 0:00:03\r\u001b[K     |███████████████████████████████▎| 2.0MB 25kB/s eta 0:00:02\r\u001b[K     |███████████████████████████████▌| 2.0MB 25kB/s eta 0:00:02\r\u001b[K     |███████████████████████████████▋| 2.1MB 25kB/s eta 0:00:02\r\u001b[K     |███████████████████████████████▊| 2.1MB 25kB/s eta 0:00:01\r\u001b[K     |████████████████████████████████| 2.1MB 25kB/s eta 0:00:01\r\u001b[K     |████████████████████████████████| 2.1MB 25kB/s \n",
            "\u001b[?25hRequirement already satisfied: numpy in /usr/local/lib/python3.6/dist-packages (from mitdeeplearning) (1.18.5)\n",
            "Requirement already satisfied: regex in /usr/local/lib/python3.6/dist-packages (from mitdeeplearning) (2019.12.20)\n",
            "Requirement already satisfied: tqdm in /usr/local/lib/python3.6/dist-packages (from mitdeeplearning) (4.41.1)\n",
            "Requirement already satisfied: gym in /usr/local/lib/python3.6/dist-packages (from mitdeeplearning) (0.17.2)\n",
            "Requirement already satisfied: cloudpickle<1.4.0,>=1.2.0 in /usr/local/lib/python3.6/dist-packages (from gym->mitdeeplearning) (1.3.0)\n",
            "Requirement already satisfied: pyglet<=1.5.0,>=1.4.0 in /usr/local/lib/python3.6/dist-packages (from gym->mitdeeplearning) (1.5.0)\n",
            "Requirement already satisfied: scipy in /usr/local/lib/python3.6/dist-packages (from gym->mitdeeplearning) (1.4.1)\n",
            "Requirement already satisfied: future in /usr/local/lib/python3.6/dist-packages (from pyglet<=1.5.0,>=1.4.0->gym->mitdeeplearning) (0.16.0)\n",
            "Building wheels for collected packages: mitdeeplearning\n",
            "  Building wheel for mitdeeplearning (setup.py) ... \u001b[?25l\u001b[?25hdone\n",
            "  Created wheel for mitdeeplearning: filename=mitdeeplearning-0.1.2-cp36-none-any.whl size=2114586 sha256=c5c0073168ca4fdc539e86fe952e9d7d29c70f8afc5a747f1627bd47aeb55259\n",
            "  Stored in directory: /root/.cache/pip/wheels/27/e1/73/5f01c787621d8a3c857f59876c79e304b9b64db9ff5bd61b74\n",
            "Successfully built mitdeeplearning\n",
            "Installing collected packages: mitdeeplearning\n",
            "Successfully installed mitdeeplearning-0.1.2\n"
          ],
          "name": "stdout"
        }
      ]
    },
    {
      "cell_type": "code",
      "metadata": {
        "id": "CY9WBQjNJ04y",
        "colab_type": "code",
        "colab": {
          "base_uri": "https://localhost:8080/",
          "height": 51
        },
        "outputId": "9f4d49a2-fa81-4fad-eebd-575d3e210a8a"
      },
      "source": [
        "# 0-d Tensors\n",
        "sport = tf.constant(\"Tennis\", tf.string)\n",
        "number = tf.constant(1.41421356237, tf.float64)\n",
        "\n",
        "print(\"'sport' is a {}-d Tensor\".format(tf.rank(sport.numpy())))\n",
        "print(\"'number' is a {}-d Tensor\".format(tf.rank(sport.numpy())))"
      ],
      "execution_count": null,
      "outputs": [
        {
          "output_type": "stream",
          "text": [
            "'sport' is a 0-d Tensor\n",
            "'number' is a 0-d Tensor\n"
          ],
          "name": "stdout"
        }
      ]
    },
    {
      "cell_type": "code",
      "metadata": {
        "id": "ZDvX3WnvKI_W",
        "colab_type": "code",
        "colab": {
          "base_uri": "https://localhost:8080/",
          "height": 51
        },
        "outputId": "bfd5f092-7471-4924-af6a-3762dfbfe641"
      },
      "source": [
        "# Use vectors/lists to create 1-d Tensors\n",
        "sports = tf.constant([\"Tennis\", \"Basketball\"], tf.string)\n",
        "numbers = tf.constant([3.141592, 1.414213, 2.71821], tf.float64)\n",
        "print(\"'sports' is a {}-d Tensor with shape: {}\".format(tf.rank(sports).numpy(), tf.shape(sports)))\n",
        "print(\"'numbers' is a {}-d Tensor with shape: {}\".format(tf.rank(numbers).numpy(), tf.shape(numbers)))"
      ],
      "execution_count": null,
      "outputs": [
        {
          "output_type": "stream",
          "text": [
            "'sports' is a 1-d Tensor with shape: [2]\n",
            "'numbers' is a 1-d Tensor with shape: [3]\n"
          ],
          "name": "stdout"
        }
      ]
    },
    {
      "cell_type": "code",
      "metadata": {
        "id": "PHpmC7PSK3zs",
        "colab_type": "code",
        "colab": {}
      },
      "source": [
        "# 2-d Tensor\n",
        "matrix = tf.constant([[2, 3, 4], [5, 6, 7]])\n",
        "\n",
        "assert isinstance(matrix, tf.Tensor) # matrix must be a tf.Tensor object\n",
        "assert tf.rank(matrix).numpy() == 2 # matrix must be a 2-d Tensor"
      ],
      "execution_count": null,
      "outputs": []
    },
    {
      "cell_type": "code",
      "metadata": {
        "id": "wAxoQeJhLXI6",
        "colab_type": "code",
        "colab": {}
      },
      "source": [
        "# 4-d Tensor with all 0's\n",
        "images = tf.zeros(shape=(10, 256, 256, 3))\n",
        "\n",
        "assert isinstance(images, tf.Tensor)\n",
        "assert tf.rank(images).numpy() == 4\n",
        "assert tf.shape(images).numpy().tolist() == [10, 256, 256, 3] # Is it this shape = True"
      ],
      "execution_count": null,
      "outputs": []
    },
    {
      "cell_type": "code",
      "metadata": {
        "id": "STh_90b5MwoG",
        "colab_type": "code",
        "colab": {
          "base_uri": "https://localhost:8080/",
          "height": 85
        },
        "outputId": "538f69a0-1304-412f-9c55-fc3223fd841c"
      },
      "source": [
        "# Accessing subtensors (list elements) within a higher-rank Tensor\n",
        "row_vector = matrix[1]\n",
        "column_vector = matrix[:, 2]\n",
        "scalar = matrix[1, 2]\n",
        "\n",
        "print(\"'row_vector': {}\".format(row_vector.numpy()))\n",
        "print(\"'column_vector': {}\".format(column_vector.numpy()))\n",
        "print(\"'scalar': {}\".format(scalar.numpy()))"
      ],
      "execution_count": null,
      "outputs": [
        {
          "output_type": "stream",
          "text": [
            "tf.Tensor(7, shape=(), dtype=int32)\n",
            "'row_vector': [5 6 7]\n",
            "'column_vector': [4 7]\n",
            "'scalar': 7\n"
          ],
          "name": "stdout"
        }
      ]
    },
    {
      "cell_type": "markdown",
      "metadata": {
        "id": "9H0yrF0xNigT",
        "colab_type": "text"
      },
      "source": [
        "**Computations on Tensors**"
      ]
    },
    {
      "cell_type": "markdown",
      "metadata": {
        "id": "Jog7IrVhN9ch",
        "colab_type": "text"
      },
      "source": [
        "![alt text](https://camo.githubusercontent.com/38d69872497861176d1231c3e1c6c3ef61270e44/68747470733a2f2f7261772e67697468756275736572636f6e74656e742e636f6d2f61616d696e692f696e74726f746f646565706c6561726e696e672f6d61737465722f6c6162312f696d672f6164642d67726170682e706e67)"
      ]
    },
    {
      "cell_type": "code",
      "metadata": {
        "id": "KJ2x-V-yNkA3",
        "colab_type": "code",
        "colab": {
          "base_uri": "https://localhost:8080/",
          "height": 51
        },
        "outputId": "75179b6e-eb2f-4a59-df15-137f38d3ba01"
      },
      "source": [
        "a = tf.constant(15)\n",
        "b = tf.constant(61)\n",
        "\n",
        "c1 = tf.add(a, b)\n",
        "c2 = a + b\n",
        "print(c1.numpy())\n",
        "print(c2.numpy())"
      ],
      "execution_count": null,
      "outputs": [
        {
          "output_type": "stream",
          "text": [
            "76\n",
            "76\n"
          ],
          "name": "stdout"
        }
      ]
    },
    {
      "cell_type": "markdown",
      "metadata": {
        "id": "CkTp5tqUN_y8",
        "colab_type": "text"
      },
      "source": [
        "![alt text](https://camo.githubusercontent.com/51a0292c93d9f6c25ad9a834c92e06e850e38e04/68747470733a2f2f7261772e67697468756275736572636f6e74656e742e636f6d2f61616d696e692f696e74726f746f646565706c6561726e696e672f6d61737465722f6c6162312f696d672f636f6d7075746174696f6e2d67726170682e706e67)"
      ]
    },
    {
      "cell_type": "code",
      "metadata": {
        "id": "BtjzyitiODTD",
        "colab_type": "code",
        "colab": {}
      },
      "source": [
        "def func(a, b):\n",
        "  c = tf.add(a, b)\n",
        "  d = tf.subtract(b, 1)\n",
        "  e = tf.multiply(c, d)\n",
        "  return e "
      ],
      "execution_count": null,
      "outputs": []
    },
    {
      "cell_type": "code",
      "metadata": {
        "id": "hUs8-mLDPyCb",
        "colab_type": "code",
        "colab": {
          "base_uri": "https://localhost:8080/",
          "height": 34
        },
        "outputId": "b8a85c99-2dd6-4115-f954-6b37d4faf181"
      },
      "source": [
        "a, b = 1.5, 2.5\n",
        "\n",
        "e_out = func(a, b)\n",
        "\n",
        "# Scalar values have no shape\n",
        "print(e_out)"
      ],
      "execution_count": null,
      "outputs": [
        {
          "output_type": "stream",
          "text": [
            "tf.Tensor(6.0, shape=(), dtype=float32)\n"
          ],
          "name": "stdout"
        }
      ]
    },
    {
      "cell_type": "markdown",
      "metadata": {
        "id": "IxUn_3DoQbsD",
        "colab_type": "text"
      },
      "source": [
        "**Neural Networks**"
      ]
    },
    {
      "cell_type": "markdown",
      "metadata": {
        "id": "Ff2WjACsQddt",
        "colab_type": "text"
      },
      "source": [
        "![alt text](https://camo.githubusercontent.com/e31abc1367dbb092c50c3759e202d15b30afb95e/68747470733a2f2f7261772e67697468756275736572636f6e74656e742e636f6d2f61616d696e692f696e74726f746f646565706c6561726e696e672f6d61737465722f6c6162312f696d672f636f6d7075746174696f6e2d67726170682d322e706e67)"
      ]
    },
    {
      "cell_type": "code",
      "metadata": {
        "id": "xKL3WQZ1QKaH",
        "colab_type": "code",
        "colab": {
          "base_uri": "https://localhost:8080/",
          "height": 68
        },
        "outputId": "90eaedc7-6424-4616-8623-455992115e4c"
      },
      "source": [
        "class OurDenseLayer(tf.keras.layers.Layer):\n",
        "  def __init__(self, n_output_nodes):\n",
        "    super(OurDenseLayer, self).__init__()\n",
        "    self.n_output_nodes = n_output_nodes\n",
        "\n",
        "  def build(self, input_shape):\n",
        "    d = int(input_shape[-1])\n",
        "\n",
        "    # Define and initialize weight matrix W and bias b\n",
        "    # Initialization is random\n",
        "    self.W = self.add_weight(\"weight\", shape=[d, self.n_output_nodes])\n",
        "    self.b = self.add_weight(\"bias\", shape=[1, self.n_output_nodes])\n",
        "\n",
        "  def call(self, x):\n",
        "    # Matrix multiplication - matmul\n",
        "    z = tf.matmul(x, self.W) + self.b\n",
        "\n",
        "    y = tf.sigmoid(z)\n",
        "    return y\n",
        "\n",
        "tf.random.set_seed(1)\n",
        "layer = OurDenseLayer(3) # n_output_nodes\n",
        "layer.build((1, 2)) # input_shape\n",
        "x_input = tf.constant([[1.0, 2.0]], shape=(1, 2)) # input\n",
        "y = layer.call(x_input)\n",
        "\n",
        "print(y.numpy())\n",
        "mdl.lab1.test_custom_dense_layer_output(y)"
      ],
      "execution_count": null,
      "outputs": [
        {
          "output_type": "stream",
          "text": [
            "[[0.26978594 0.45750412 0.66536945]]\n",
            "[PASS] test_custom_dense_layer_output\n"
          ],
          "name": "stdout"
        },
        {
          "output_type": "execute_result",
          "data": {
            "text/plain": [
              "True"
            ]
          },
          "metadata": {
            "tags": []
          },
          "execution_count": 25
        }
      ]
    },
    {
      "cell_type": "markdown",
      "metadata": {
        "id": "WSAQRGafUg21",
        "colab_type": "text"
      },
      "source": [
        "**Using Sequential()**"
      ]
    },
    {
      "cell_type": "code",
      "metadata": {
        "id": "cVA3X89jUkMu",
        "colab_type": "code",
        "colab": {}
      },
      "source": [
        "from tensorflow.keras import Sequential\n",
        "from tensorflow.keras.layers import Dense\n",
        "\n",
        "n_output_nodes = 3\n",
        "\n",
        "model = Sequential()\n",
        "\n",
        "dense_layer = Dense(n_output_nodes, activation=\"sigmoid\")\n",
        "model.add(dense_layer)"
      ],
      "execution_count": null,
      "outputs": []
    },
    {
      "cell_type": "code",
      "metadata": {
        "id": "qyE1PeLHU3bP",
        "colab_type": "code",
        "colab": {
          "base_uri": "https://localhost:8080/",
          "height": 34
        },
        "outputId": "1f44cb4d-d24f-490c-8cf3-2205528db5b1"
      },
      "source": [
        "x_input = tf.constant([[1.0, 2.0]], shape=(1, 2))\n",
        "\n",
        "model_output = model(x_input).numpy()\n",
        "print(model_output)"
      ],
      "execution_count": null,
      "outputs": [
        {
          "output_type": "stream",
          "text": [
            "[[0.5607363 0.6566898 0.1249697]]\n"
          ],
          "name": "stdout"
        }
      ]
    },
    {
      "cell_type": "markdown",
      "metadata": {
        "id": "KFRvNMqbVp9G",
        "colab_type": "text"
      },
      "source": [
        "**Using Subclassing**\n",
        "\n",
        "Define layers in __init__() function.\n",
        "\n",
        "Define forward pass using the call() function.\n",
        "\n",
        "Helps define custom layers, custom training loops, custom activation functions, custom models."
      ]
    },
    {
      "cell_type": "code",
      "metadata": {
        "id": "RYUqT92JVrQ2",
        "colab_type": "code",
        "colab": {}
      },
      "source": [
        "from tensorflow.keras import Model\n",
        "from tensorflow.keras.layers import Dense\n",
        "\n",
        "class SubclassModel(tf.keras.Model):\n",
        "\n",
        "  def __init__(self, n_output_nodes): # define model layers inside\n",
        "    super(SubclassModel, self).__init__()\n",
        "    self.dense_layer = Dense(n_output_nodes, activation=\"sigmoid\")\n",
        "\n",
        "  def call(self, inputs):\n",
        "    return self.dense_layer(inputs)"
      ],
      "execution_count": null,
      "outputs": []
    },
    {
      "cell_type": "code",
      "metadata": {
        "id": "nhEYKLDAWQqQ",
        "colab_type": "code",
        "colab": {
          "base_uri": "https://localhost:8080/",
          "height": 34
        },
        "outputId": "12aad31f-0b5f-4be9-d083-6165900b25ca"
      },
      "source": [
        "n_output_nodes = 3\n",
        "model = SubclassModel(n_output_nodes)\n",
        "\n",
        "x_input = tf.constant([[1.0, 2.0]], shape=(1, 2))\n",
        "\n",
        "print(model.call(x_input))"
      ],
      "execution_count": null,
      "outputs": [
        {
          "output_type": "stream",
          "text": [
            "tf.Tensor([[0.6504887  0.47828162 0.8373661 ]], shape=(1, 3), dtype=float32)\n"
          ],
          "name": "stdout"
        }
      ]
    },
    {
      "cell_type": "code",
      "metadata": {
        "id": "2wYMBQA8XMdP",
        "colab_type": "code",
        "colab": {}
      },
      "source": [
        "from tensorflow.keras import Model\n",
        "from tensorflow.keras.layers import Dense\n",
        "\n",
        "class IdentityModel(tf.keras.Model):\n",
        "\n",
        "  def __init__(self, n_output_nodes): # define model layers inside\n",
        "    super(IdentityModel, self).__init__()\n",
        "    self.dense_layer = Dense(n_output_nodes, activation=\"sigmoid\")\n",
        "\n",
        "  # Allows model to return just the input, if the condition is met\n",
        "  def call(self, inputs, isidentity=False):\n",
        "    x = self.dense_layer(inputs)\n",
        "    if isidentity:\n",
        "      return inputs\n",
        "    return x"
      ],
      "execution_count": null,
      "outputs": []
    },
    {
      "cell_type": "code",
      "metadata": {
        "id": "x_LEW7wpXdi1",
        "colab_type": "code",
        "colab": {
          "base_uri": "https://localhost:8080/",
          "height": 34
        },
        "outputId": "fa61b9db-fd1a-4d84-c3dd-76e9f17444d9"
      },
      "source": [
        "n_output_nodes = 3\n",
        "model = IdentityModel(n_output_nodes)\n",
        "\n",
        "x_input = tf.constant([[1.0, 2.0]], shape=(1, 2))\n",
        "\n",
        "out_activate = model.call(x_input)\n",
        "out_identity = model.call(x_input, isidentity = True)\n",
        "\n",
        "print(\"Network output with activation: {}; network identity output: {}\".format(out_activate.numpy(), out_identity.numpy()))"
      ],
      "execution_count": null,
      "outputs": [
        {
          "output_type": "stream",
          "text": [
            "Network output with activation: [[0.29996255 0.62776643 0.48460066]]; network identity output: [[1. 2.]]\n"
          ],
          "name": "stdout"
        }
      ]
    },
    {
      "cell_type": "markdown",
      "metadata": {
        "id": "YIvKaANIZC68",
        "colab_type": "text"
      },
      "source": [
        "**Automatic Differentiation and GradientTape**\n",
        "\n",
        "Automatic differentiation is vital for backpropagation.\n",
        "\n",
        "When a forward pass is made through th network, all operations are recorded to a \"tape\".\n",
        "\n",
        "To compute gradient, tape is played backwards, then discarded.\n",
        "\n",
        "So tf.GradientTape can only compute a gradient **one time**. \n",
        "\n",
        "We can create a **persistent gradient tape** to compute multiple gradients over the same computation."
      ]
    },
    {
      "cell_type": "code",
      "metadata": {
        "id": "da7xan5jZlnX",
        "colab_type": "code",
        "colab": {
          "base_uri": "https://localhost:8080/",
          "height": 34
        },
        "outputId": "c0f54b6a-84ae-4625-8b7c-d8b142334e71"
      },
      "source": [
        "# Compute gradient of y = x^2 at x = 3\n",
        "\n",
        "x = tf.Variable(3.0) \n",
        "\n",
        "with tf.GradientTape() as tape:\n",
        "  y = x * x\n",
        "\n",
        "dy_dx = tape.gradient(y, x)\n",
        "print(dy_dx.numpy())"
      ],
      "execution_count": null,
      "outputs": [
        {
          "output_type": "stream",
          "text": [
            "6.0\n"
          ],
          "name": "stdout"
        }
      ]
    },
    {
      "cell_type": "code",
      "metadata": {
        "id": "OnAZPI7basKc",
        "colab_type": "code",
        "colab": {
          "base_uri": "https://localhost:8080/",
          "height": 313
        },
        "outputId": "78dc5d65-de06-427c-de45-077418091e2d"
      },
      "source": [
        "# Remember, SGD and differentiation are used to optimize a loss function\n",
        "x = tf.Variable([tf.random.normal([1])]) # Make variable because the value changes via x.assign()\n",
        "print(\"Initializing x = {}\".format(x.numpy()))\n",
        "\n",
        "learning_rate = 1e-2 # Learning rate for stochastic gradient descent\n",
        "history = []\n",
        "x_f = 4 # Target value\n",
        "\n",
        "# Run SGD for a number of iterations, compute loss for each iteration\n",
        "# Compute derivative of the loss with respect to x, perform SGD update\n",
        "for i in range(500):\n",
        "  with tf.GradientTape() as tape:\n",
        "    loss = (x - x_f)**2 # Squared error\n",
        "\n",
        "  grad = tape.gradient(loss, x) # Computes derivative w/ respect to x\n",
        "  new_x = x - learning_rate*grad # SGD update\n",
        "  x.assign(new_x) # Updates value of x\n",
        "  history.append(x.numpy()[0])\n",
        "\n",
        "# Plot evolution of x as we optimize towards x_f\n",
        "plt.plot(history)\n",
        "plt.plot([0, 500], [x_f, x_f])\n",
        "plt.legend((\"Predicted\", \"True\"))\n",
        "plt.xlabel(\"Iteration\")\n",
        "plt.ylabel(\"x value\")\n"
      ],
      "execution_count": null,
      "outputs": [
        {
          "output_type": "stream",
          "text": [
            "Initializing x = [[-0.35975078]]\n"
          ],
          "name": "stdout"
        },
        {
          "output_type": "execute_result",
          "data": {
            "text/plain": [
              "Text(0, 0.5, 'x value')"
            ]
          },
          "metadata": {
            "tags": []
          },
          "execution_count": 43
        },
        {
          "output_type": "display_data",
          "data": {
            "image/png": "[encoded data removed]",
            "text/plain": [
              "<Figure size 432x288 with 1 Axes>"
            ]
          },
          "metadata": {
            "tags": [],
            "needs_background": "light"
          }
        }
      ]
    }
  ]
}